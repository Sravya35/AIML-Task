{
 "cells": [
  {
   "cell_type": "code",
   "execution_count": null,
   "id": "a27c88a5-3c96-4fb4-ae3c-13afc6fbb12a",
   "metadata": {},
   "outputs": [],
   "source": [
    "n=50\n",
    "even=0\n",
    "for number in range(1, n + 1):\n",
    "    if number % 2 == 0:\n",
    "        even += number\n",
    "print(f\"The sum of all even numbers betw"
   ]
  }
 ],
 "metadata": {
  "kernelspec": {
   "display_name": "Python 3 (ipykernel)",
   "language": "python",
   "name": "python3"
  },
  "language_info": {
   "codemirror_mode": {
    "name": "ipython",
    "version": 3
   },
   "file_extension": ".py",
   "mimetype": "text/x-python",
   "name": "python",
   "nbconvert_exporter": "python",
   "pygments_lexer": "ipython3",
   "version": "3.12.7"
  }
 },
 "nbformat": 4,
 "nbformat_minor": 5
}
