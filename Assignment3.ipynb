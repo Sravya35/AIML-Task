{
 "cells": [
  {
   "cell_type": "code",
   "execution_count": 3,
   "id": "b4e4062c-ba71-4a31-93ed-f72263703f2e",
   "metadata": {},
   "outputs": [
    {
     "name": "stdin",
     "output_type": "stream",
     "text": [
      "Enter a positive integer:  6\n"
     ]
    },
    {
     "name": "stdout",
     "output_type": "stream",
     "text": [
      "Numbers from 1 to 6\n",
      "1\n",
      "2\n",
      "3\n",
      "4\n",
      "5\n",
      "6\n",
      "The sum of numbers from 1 to 6 is: 21\n"
     ]
    }
   ],
   "source": [
    "n=int(input(\"Enter a positive integer: \"))\n",
    "print(\"Numbers from 1 to\", n)\n",
    "for i in range(1, n+1):\n",
    "    print(i)\n",
    "sum_numbers=0\n",
    "i=1\n",
    "while i<=n:\n",
    "    sum_numbers+=i\n",
    "    i+=1\n",
    "print(\"The sum of numbers from 1 to\",n,\"is:\",sum_numbers)"
   ]
  },
  {
   "cell_type": "code",
   "execution_count": null,
   "id": "fd4245c5-5080-4b77-bdc2-b718ea5c3724",
   "metadata": {},
   "outputs": [],
   "source": [
    "def calculate_square(n):\n",
    "    return n ** 2\n",
    "number = int(input(\"Enter a positive integer:\"))\n",
    "square=calculate_square(number)\n",
    "print(\"The square"
   ]
  }
 ],
 "metadata": {
  "kernelspec": {
   "display_name": "Python 3 (ipykernel)",
   "language": "python",
   "name": "python3"
  },
  "language_info": {
   "codemirror_mode": {
    "name": "ipython",
    "version": 3
   },
   "file_extension": ".py",
   "mimetype": "text/x-python",
   "name": "python",
   "nbconvert_exporter": "python",
   "pygments_lexer": "ipython3",
   "version": "3.12.7"
  }
 },
 "nbformat": 4,
 "nbformat_minor": 5
}
