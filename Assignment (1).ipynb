{
 "cells": [
  {
   "cell_type": "code",
   "execution_count": 2,
   "id": "fc82a6d3-71a6-4556-a152-31951ebc0f1a",
   "metadata": {},
   "outputs": [
    {
     "name": "stdout",
     "output_type": "stream",
     "text": [
      "Grade: B\n"
     ]
    }
   ],
   "source": [
    "Maths=89\n",
    "Physics=85\n",
    "chemistry=82\n",
    "average = (Maths+Physics+chemistry) / 3\n",
    "if average >= 90:\n",
    "    print(\"Grade: A\")\n",
    "elif 80 <= average <=89:\n",
    "    print(\"Grade: B\")\n",
    "elif 70 <= average <=70:\n",
    "    print(\"Grade: C\")\n",
    "else:\n",
    "    print(\"FAILED\")"
   ]
  },
  {
   "cell_type": "code",
   "execution_count": null,
   "id": "fe1d01eb-1f94-47cd-81cd-d9bbfaa8f702",
   "metadata": {},
   "outputs": [],
   "source": []
  }
 ],
 "metadata": {
  "kernelspec": {
   "display_name": "Python 3 (ipykernel)",
   "language": "python",
   "name": "python3"
  },
  "language_info": {
   "codemirror_mode": {
    "name": "ipython",
    "version": 3
   },
   "file_extension": ".py",
   "mimetype": "text/x-python",
   "name": "python",
   "nbconvert_exporter": "python",
   "pygments_lexer": "ipython3",
   "version": "3.12.7"
  }
 },
 "nbformat": 4,
 "nbformat_minor": 5
}
